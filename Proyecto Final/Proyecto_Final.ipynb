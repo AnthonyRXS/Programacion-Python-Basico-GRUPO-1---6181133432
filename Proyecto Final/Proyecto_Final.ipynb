{
  "cells": [
    {
      "cell_type": "markdown",
      "id": "a62202dd",
      "metadata": {
        "id": "a62202dd"
      },
      "source": [
        "# Estudio de emisiones de Dioxido de Carbono"
      ]
    },
    {
      "cell_type": "markdown",
      "id": "8026dfad",
      "metadata": {},
      "source": [
        "## Estudiante: Anthony Rodriguez Salazar "
      ]
    },
    {
      "cell_type": "markdown",
      "id": "98d6cc2c",
      "metadata": {
        "id": "98d6cc2c"
      },
      "source": [
        "## Objetivo"
      ]
    },
    {
      "cell_type": "markdown",
      "id": "f6e5f5ed",
      "metadata": {
        "id": "f6e5f5ed"
      },
      "source": [
        "Cargar un archivo 'Carbon_Dioxide_Emission_Estimates.csv' responder las siguientes preguntas"
      ]
    },
    {
      "cell_type": "markdown",
      "id": "e21e6b1c",
      "metadata": {
        "id": "e21e6b1c"
      },
      "source": [
        "## Contexto\n"
      ]
    },
    {
      "cell_type": "markdown",
      "id": "c4c7df65",
      "metadata": {
        "id": "c4c7df65"
      },
      "source": [
        "Se tiene un set de datos contenido en un archivo del tipo csv.\n",
        "\n",
        "El archivo es 'Carbon_Dioxide_Emission_Estimates.csv'.\n",
        "\n",
        "A continuación se presenta el paso cero para leer del archivo que contiene 2 tipos de filas según sea el valor en la columna 'Type':\n",
        "\n",
        "- Emissions_thousand__metric_tons_of_carbon_dioxide\n",
        "- Emissions_per_capita__metric_tons_of_carbon_dioxide\n",
        "\n",
        "El valor de las emisiones están en medidas de Toneladas métricas de Dióxido de Carbono"
      ]
    },
    {
      "cell_type": "markdown",
      "id": "352UFM-aEWCT",
      "metadata": {
        "id": "352UFM-aEWCT"
      },
      "source": [
        "# Pregunta 0\n",
        "\n",
        "1. Crear un dataframe con el nombre de variable 'df_emisions_co2' usando únicamente las filas cuya columna 'Type' tiene el valor 'Emissions (thousand metric tons of carbon dioxide)'\n",
        "\n",
        "2. Crear un dataframe con el nombre de variable 'df_emisions_co2_per_capita' usando únicamente las filas cuya columna 'Type' tiene el valor Emissions per capita (metric tons of carbon dioxide)"
      ]
    },
    {
      "cell_type": "code",
      "execution_count": null,
      "id": "4d7e7398",
      "metadata": {},
      "outputs": [
        {
          "ename": "ParserError",
          "evalue": "Error tokenizing data. C error: Expected 4 fields in line 364, saw 5\n",
          "output_type": "error",
          "traceback": [
            "\u001b[1;31m---------------------------------------------------------------------------\u001b[0m",
            "\u001b[1;31mParserError\u001b[0m                               Traceback (most recent call last)",
            "Cell \u001b[1;32mIn[1], line 4\u001b[0m\n\u001b[0;32m      1\u001b[0m \u001b[38;5;28;01mimport\u001b[39;00m\u001b[38;5;250m \u001b[39m\u001b[38;5;21;01mpandas\u001b[39;00m\u001b[38;5;250m \u001b[39m\u001b[38;5;28;01mas\u001b[39;00m\u001b[38;5;250m \u001b[39m\u001b[38;5;21;01mpd\u001b[39;00m\n\u001b[0;32m      3\u001b[0m \u001b[38;5;66;03m# Cargar el archivo CSV\u001b[39;00m\n\u001b[1;32m----> 4\u001b[0m df \u001b[38;5;241m=\u001b[39m \u001b[43mpd\u001b[49m\u001b[38;5;241;43m.\u001b[39;49m\u001b[43mread_csv\u001b[49m\u001b[43m(\u001b[49m\u001b[38;5;124;43m'\u001b[39;49m\u001b[38;5;124;43mCarbon_Dioxide_Emission_Estimates.csv\u001b[39;49m\u001b[38;5;124;43m'\u001b[39;49m\u001b[43m)\u001b[49m\n\u001b[0;32m      7\u001b[0m \u001b[38;5;66;03m# Filtrar los datos según la columna 'Type'\u001b[39;00m\n\u001b[0;32m      8\u001b[0m df_emisions_co2 \u001b[38;5;241m=\u001b[39m df[df[\u001b[38;5;124m'\u001b[39m\u001b[38;5;124mType\u001b[39m\u001b[38;5;124m'\u001b[39m] \u001b[38;5;241m==\u001b[39m \u001b[38;5;124m'\u001b[39m\u001b[38;5;124mEmissions (thousand metric tons of carbon dioxide)\u001b[39m\u001b[38;5;124m'\u001b[39m]\n",
            "File \u001b[1;32mc:\\Users\\Estudiantes\\AppData\\Local\\Programs\\Python\\Python313\\Lib\\site-packages\\pandas\\io\\parsers\\readers.py:1026\u001b[0m, in \u001b[0;36mread_csv\u001b[1;34m(filepath_or_buffer, sep, delimiter, header, names, index_col, usecols, dtype, engine, converters, true_values, false_values, skipinitialspace, skiprows, skipfooter, nrows, na_values, keep_default_na, na_filter, verbose, skip_blank_lines, parse_dates, infer_datetime_format, keep_date_col, date_parser, date_format, dayfirst, cache_dates, iterator, chunksize, compression, thousands, decimal, lineterminator, quotechar, quoting, doublequote, escapechar, comment, encoding, encoding_errors, dialect, on_bad_lines, delim_whitespace, low_memory, memory_map, float_precision, storage_options, dtype_backend)\u001b[0m\n\u001b[0;32m   1013\u001b[0m kwds_defaults \u001b[38;5;241m=\u001b[39m _refine_defaults_read(\n\u001b[0;32m   1014\u001b[0m     dialect,\n\u001b[0;32m   1015\u001b[0m     delimiter,\n\u001b[1;32m   (...)\u001b[0m\n\u001b[0;32m   1022\u001b[0m     dtype_backend\u001b[38;5;241m=\u001b[39mdtype_backend,\n\u001b[0;32m   1023\u001b[0m )\n\u001b[0;32m   1024\u001b[0m kwds\u001b[38;5;241m.\u001b[39mupdate(kwds_defaults)\n\u001b[1;32m-> 1026\u001b[0m \u001b[38;5;28;01mreturn\u001b[39;00m \u001b[43m_read\u001b[49m\u001b[43m(\u001b[49m\u001b[43mfilepath_or_buffer\u001b[49m\u001b[43m,\u001b[49m\u001b[43m \u001b[49m\u001b[43mkwds\u001b[49m\u001b[43m)\u001b[49m\n",
            "File \u001b[1;32mc:\\Users\\Estudiantes\\AppData\\Local\\Programs\\Python\\Python313\\Lib\\site-packages\\pandas\\io\\parsers\\readers.py:626\u001b[0m, in \u001b[0;36m_read\u001b[1;34m(filepath_or_buffer, kwds)\u001b[0m\n\u001b[0;32m    623\u001b[0m     \u001b[38;5;28;01mreturn\u001b[39;00m parser\n\u001b[0;32m    625\u001b[0m \u001b[38;5;28;01mwith\u001b[39;00m parser:\n\u001b[1;32m--> 626\u001b[0m     \u001b[38;5;28;01mreturn\u001b[39;00m \u001b[43mparser\u001b[49m\u001b[38;5;241;43m.\u001b[39;49m\u001b[43mread\u001b[49m\u001b[43m(\u001b[49m\u001b[43mnrows\u001b[49m\u001b[43m)\u001b[49m\n",
            "File \u001b[1;32mc:\\Users\\Estudiantes\\AppData\\Local\\Programs\\Python\\Python313\\Lib\\site-packages\\pandas\\io\\parsers\\readers.py:1923\u001b[0m, in \u001b[0;36mTextFileReader.read\u001b[1;34m(self, nrows)\u001b[0m\n\u001b[0;32m   1916\u001b[0m nrows \u001b[38;5;241m=\u001b[39m validate_integer(\u001b[38;5;124m\"\u001b[39m\u001b[38;5;124mnrows\u001b[39m\u001b[38;5;124m\"\u001b[39m, nrows)\n\u001b[0;32m   1917\u001b[0m \u001b[38;5;28;01mtry\u001b[39;00m:\n\u001b[0;32m   1918\u001b[0m     \u001b[38;5;66;03m# error: \"ParserBase\" has no attribute \"read\"\u001b[39;00m\n\u001b[0;32m   1919\u001b[0m     (\n\u001b[0;32m   1920\u001b[0m         index,\n\u001b[0;32m   1921\u001b[0m         columns,\n\u001b[0;32m   1922\u001b[0m         col_dict,\n\u001b[1;32m-> 1923\u001b[0m     ) \u001b[38;5;241m=\u001b[39m \u001b[38;5;28;43mself\u001b[39;49m\u001b[38;5;241;43m.\u001b[39;49m\u001b[43m_engine\u001b[49m\u001b[38;5;241;43m.\u001b[39;49m\u001b[43mread\u001b[49m\u001b[43m(\u001b[49m\u001b[43m  \u001b[49m\u001b[38;5;66;43;03m# type: ignore[attr-defined]\u001b[39;49;00m\n\u001b[0;32m   1924\u001b[0m \u001b[43m        \u001b[49m\u001b[43mnrows\u001b[49m\n\u001b[0;32m   1925\u001b[0m \u001b[43m    \u001b[49m\u001b[43m)\u001b[49m\n\u001b[0;32m   1926\u001b[0m \u001b[38;5;28;01mexcept\u001b[39;00m \u001b[38;5;167;01mException\u001b[39;00m:\n\u001b[0;32m   1927\u001b[0m     \u001b[38;5;28mself\u001b[39m\u001b[38;5;241m.\u001b[39mclose()\n",
            "File \u001b[1;32mc:\\Users\\Estudiantes\\AppData\\Local\\Programs\\Python\\Python313\\Lib\\site-packages\\pandas\\io\\parsers\\c_parser_wrapper.py:234\u001b[0m, in \u001b[0;36mCParserWrapper.read\u001b[1;34m(self, nrows)\u001b[0m\n\u001b[0;32m    232\u001b[0m \u001b[38;5;28;01mtry\u001b[39;00m:\n\u001b[0;32m    233\u001b[0m     \u001b[38;5;28;01mif\u001b[39;00m \u001b[38;5;28mself\u001b[39m\u001b[38;5;241m.\u001b[39mlow_memory:\n\u001b[1;32m--> 234\u001b[0m         chunks \u001b[38;5;241m=\u001b[39m \u001b[38;5;28;43mself\u001b[39;49m\u001b[38;5;241;43m.\u001b[39;49m\u001b[43m_reader\u001b[49m\u001b[38;5;241;43m.\u001b[39;49m\u001b[43mread_low_memory\u001b[49m\u001b[43m(\u001b[49m\u001b[43mnrows\u001b[49m\u001b[43m)\u001b[49m\n\u001b[0;32m    235\u001b[0m         \u001b[38;5;66;03m# destructive to chunks\u001b[39;00m\n\u001b[0;32m    236\u001b[0m         data \u001b[38;5;241m=\u001b[39m _concatenate_chunks(chunks)\n",
            "File \u001b[1;32mparsers.pyx:838\u001b[0m, in \u001b[0;36mpandas._libs.parsers.TextReader.read_low_memory\u001b[1;34m()\u001b[0m\n",
            "File \u001b[1;32mparsers.pyx:905\u001b[0m, in \u001b[0;36mpandas._libs.parsers.TextReader._read_rows\u001b[1;34m()\u001b[0m\n",
            "File \u001b[1;32mparsers.pyx:874\u001b[0m, in \u001b[0;36mpandas._libs.parsers.TextReader._tokenize_rows\u001b[1;34m()\u001b[0m\n",
            "File \u001b[1;32mparsers.pyx:891\u001b[0m, in \u001b[0;36mpandas._libs.parsers.TextReader._check_tokenize_status\u001b[1;34m()\u001b[0m\n",
            "File \u001b[1;32mparsers.pyx:2061\u001b[0m, in \u001b[0;36mpandas._libs.parsers.raise_parser_error\u001b[1;34m()\u001b[0m\n",
            "\u001b[1;31mParserError\u001b[0m: Error tokenizing data. C error: Expected 4 fields in line 364, saw 5\n"
          ]
        }
      ],
      "source": [
        "import pandas as pd\n",
        "\n",
        "# Cargar el archivo CSV\n",
        "df = pd.read_csv(r'Carbon_Dioxide_Emission_Estimates.csv')\n",
        "\n",
        "\n",
        "# Filtrar los datos según la columna 'Type'\n",
        "df_emisions_co2 = df[df['Type'] == 'Emissions (thousand metric tons of carbon dioxide)']\n",
        "df_emisions_co2_per_capita = df[df['Type'] == 'Emissions per capita (metric tons of carbon dioxide)']\n",
        "\n",
        "# Mostrar los primeros registros de cada DataFrame\n",
        "print(df_emisions_co2.head())\n",
        "print(df_emisions_co2_per_capita.head())"
      ]
    },
    {
      "cell_type": "markdown",
      "id": "d6bd6661",
      "metadata": {
        "id": "d6bd6661"
      },
      "source": [
        "# Pregunta 1"
      ]
    },
    {
      "cell_type": "code",
      "execution_count": null,
      "id": "04c0bc8a",
      "metadata": {},
      "outputs": [],
      "source": []
    },
    {
      "cell_type": "markdown",
      "id": "3299b6b5",
      "metadata": {
        "id": "3299b6b5"
      },
      "source": [
        "Cuántas filas tiene el dataframe 'df_emisions_co2'?"
      ]
    },
    {
      "cell_type": "code",
      "execution_count": null,
      "id": "f02d60cc",
      "metadata": {
        "id": "f02d60cc"
      },
      "outputs": [],
      "source": [
        "# Coloque el código que responda a la pregunta aqui"
      ]
    },
    {
      "cell_type": "markdown",
      "id": "880f891d",
      "metadata": {
        "id": "880f891d"
      },
      "source": [
        "# Pregunta 2"
      ]
    },
    {
      "cell_type": "markdown",
      "id": "34700c9d",
      "metadata": {
        "id": "34700c9d"
      },
      "source": [
        "Cuál en el valor más alto de emisiones (en general) usando el dataframe 'df_emisions_co2'?"
      ]
    },
    {
      "cell_type": "code",
      "execution_count": null,
      "id": "24bdf93a",
      "metadata": {
        "id": "24bdf93a"
      },
      "outputs": [],
      "source": [
        "# Coloque el código que responda a la pregunta aqui exactamente lo que se pregunta"
      ]
    },
    {
      "cell_type": "markdown",
      "id": "7ebd3621",
      "metadata": {
        "id": "7ebd3621"
      },
      "source": [
        "# Pregunta 3"
      ]
    },
    {
      "cell_type": "markdown",
      "id": "eb81f1c8",
      "metadata": {
        "id": "eb81f1c8"
      },
      "source": [
        "Cuántos países (Countries) hay en el dataframe 'df_emisions_co2'?"
      ]
    },
    {
      "cell_type": "code",
      "execution_count": null,
      "id": "4f60454b",
      "metadata": {
        "id": "4f60454b"
      },
      "outputs": [],
      "source": [
        "# Coloque el código que responda a la pregunta aqui exactamente lo que se pregunta"
      ]
    },
    {
      "cell_type": "code",
      "execution_count": null,
      "id": "2f46faa0",
      "metadata": {
        "id": "2f46faa0"
      },
      "outputs": [],
      "source": [
        "#Imprima un lista con todos los paises"
      ]
    },
    {
      "cell_type": "markdown",
      "id": "1e40352a",
      "metadata": {
        "id": "1e40352a"
      },
      "source": [
        "# Pregunta 4"
      ]
    },
    {
      "cell_type": "markdown",
      "id": "80c46908",
      "metadata": {
        "id": "80c46908"
      },
      "source": [
        "Cuál es el país que tiene mayor emisiones usando el dataframe 'df_emisions_co2'?"
      ]
    },
    {
      "cell_type": "code",
      "execution_count": null,
      "id": "e6df7d42",
      "metadata": {
        "id": "e6df7d42"
      },
      "outputs": [],
      "source": [
        "# Coloque el código que responda a la pregunta aqui exactamente lo que se pregunta"
      ]
    },
    {
      "cell_type": "markdown",
      "id": "26c97fde",
      "metadata": {
        "id": "26c97fde"
      },
      "source": [
        "# Pregunta 5"
      ]
    },
    {
      "cell_type": "markdown",
      "id": "541f44ca",
      "metadata": {
        "id": "541f44ca"
      },
      "source": [
        "Cuál es el año que tiene mayor emisiones para el país de Spain usando el dataframe 'df_emisions_co2'?"
      ]
    },
    {
      "cell_type": "code",
      "execution_count": null,
      "id": "c32f62d1",
      "metadata": {
        "id": "c32f62d1"
      },
      "outputs": [],
      "source": [
        "# Coloque el código que responda a la pregunta aqui exactamente lo que se pregunta"
      ]
    },
    {
      "cell_type": "markdown",
      "id": "55ce4564",
      "metadata": {
        "id": "55ce4564"
      },
      "source": [
        "# Pregunta 6"
      ]
    },
    {
      "cell_type": "markdown",
      "id": "3473e4f2",
      "metadata": {
        "id": "3473e4f2"
      },
      "source": [
        "Cuáles son los años que se tiene registros para el dataframe 'df_emisions_co2_per_capita'?\n",
        "\n",
        "Entrege una lista con los años sin repetirse"
      ]
    },
    {
      "cell_type": "code",
      "execution_count": null,
      "id": "5ad50924",
      "metadata": {
        "id": "5ad50924"
      },
      "outputs": [],
      "source": [
        "# Coloque el código que responda a la pregunta aqui exactamente lo que se pregunta"
      ]
    },
    {
      "cell_type": "markdown",
      "id": "18fa522e",
      "metadata": {
        "id": "18fa522e"
      },
      "source": [
        "# Pregunta 7"
      ]
    },
    {
      "cell_type": "markdown",
      "id": "2747ce42",
      "metadata": {
        "id": "2747ce42"
      },
      "source": [
        "Cuántas son las emisiones en 'toneladas métricas' en total usando todos los países para usando el dataframe 'df_emisions_co2'?\n"
      ]
    },
    {
      "cell_type": "code",
      "execution_count": null,
      "id": "e8cbd117",
      "metadata": {
        "id": "e8cbd117"
      },
      "outputs": [],
      "source": [
        "# Coloque el código que responda a la pregunta aqui exactamente lo que se pregunta"
      ]
    },
    {
      "cell_type": "markdown",
      "id": "42aa86db",
      "metadata": {
        "id": "42aa86db"
      },
      "source": [
        "# Pregunta 8"
      ]
    },
    {
      "cell_type": "markdown",
      "id": "a303974d",
      "metadata": {
        "id": "a303974d"
      },
      "source": [
        "Cuántas son las emisiones en 'toneladas métricas' sólo para Albania usando el dataframe 'df_emisions_co2'?\n"
      ]
    },
    {
      "cell_type": "code",
      "execution_count": null,
      "id": "181ab815",
      "metadata": {
        "id": "181ab815"
      },
      "outputs": [],
      "source": [
        "# Coloque el código que responda a la pregunta aqui exactamente lo que se pregunta"
      ]
    },
    {
      "cell_type": "markdown",
      "id": "d084c9f3",
      "metadata": {
        "id": "d084c9f3"
      },
      "source": [
        "# Pregunta 9"
      ]
    },
    {
      "cell_type": "markdown",
      "id": "ae9cebff",
      "metadata": {
        "id": "ae9cebff"
      },
      "source": [
        "Cuántas son las emisiones en 'libras' sólo para Costa Rica usando el dataframe 'df_emisions_co2'?\n"
      ]
    },
    {
      "cell_type": "code",
      "execution_count": null,
      "id": "ee97d492",
      "metadata": {
        "id": "ee97d492"
      },
      "outputs": [],
      "source": [
        "# Coloque el código que responda a la pregunta aqui exactamente lo que se pregunta"
      ]
    },
    {
      "cell_type": "markdown",
      "id": "eb6dfc54",
      "metadata": {
        "id": "eb6dfc54"
      },
      "source": [
        "# Pregunta 10"
      ]
    },
    {
      "cell_type": "markdown",
      "id": "5862817e",
      "metadata": {
        "id": "5862817e"
      },
      "source": [
        "Para sólo 'Costa Rica' y suponiendo que las emisiones se estancan a partir del último año reportado. Cuántas son las emisiones en 'Kg' sólo para Costa Rica en el año 2022 usando el dataframe 'df_emisions_co2'?\n"
      ]
    },
    {
      "cell_type": "code",
      "execution_count": null,
      "id": "76ed009c",
      "metadata": {
        "id": "76ed009c"
      },
      "outputs": [],
      "source": [
        "# Coloque el código que responda a la pregunta aqui exactamente lo que se pregunta"
      ]
    },
    {
      "cell_type": "markdown",
      "id": "1c18874b",
      "metadata": {
        "id": "1c18874b"
      },
      "source": [
        "# Pregunta 12"
      ]
    },
    {
      "cell_type": "markdown",
      "id": "6a487c43",
      "metadata": {
        "id": "6a487c43"
      },
      "source": [
        "Para sólo los países de Centroamérica ['El Salvador', 'Honduras', 'Guatemala', 'Costa Rica', 'Nicaragua'] obtener un reporte por año de las emisiones totales en Centroamérica usando el dataframe 'df_emisions_co2'?\n",
        "Se espera un dataframe de 2 columnas: 'Year' y 'total_por_año'"
      ]
    },
    {
      "cell_type": "code",
      "execution_count": null,
      "id": "1d0426bf",
      "metadata": {
        "id": "1d0426bf"
      },
      "outputs": [],
      "source": [
        "# Coloque el código que responda a la pregunta aqui exactamente lo que se pregunta"
      ]
    },
    {
      "cell_type": "markdown",
      "id": "8fdaae3d",
      "metadata": {
        "id": "8fdaae3d"
      },
      "source": [
        "# Pregunta 13"
      ]
    },
    {
      "cell_type": "markdown",
      "id": "8a7e17ff",
      "metadata": {
        "id": "8a7e17ff"
      },
      "source": [
        "Para sólo los países de Centroamérica ['El Salvador', 'Honduras', 'Guatemala', 'Costa Rica', 'Nicaragua'] obtener un reporte por año de las emisiones en promedio en Centroamérica usando el dataframe 'df_emisions_co2_per_capita'?\n",
        "Se espera un dataframe de 2 columnas: 'Year' y 'promedio_por_año'"
      ]
    },
    {
      "cell_type": "code",
      "execution_count": null,
      "id": "4ec787f4",
      "metadata": {
        "id": "4ec787f4"
      },
      "outputs": [],
      "source": [
        "# Coloque el código que responda a la pregunta aqui exactamente lo que se pregunta"
      ]
    },
    {
      "cell_type": "markdown",
      "id": "944ac865",
      "metadata": {
        "id": "944ac865"
      },
      "source": [
        "# Pregunta 14"
      ]
    },
    {
      "cell_type": "markdown",
      "id": "b961da55",
      "metadata": {
        "id": "b961da55"
      },
      "source": [
        "Cuál es el promedio de las emisiones per capita para el año 2005 usando el dataframe 'df_emisions_co2_per_capita'?\n"
      ]
    },
    {
      "cell_type": "code",
      "execution_count": null,
      "id": "e2f0a786",
      "metadata": {
        "id": "e2f0a786"
      },
      "outputs": [],
      "source": [
        "# Coloque el código que responda a la pregunta aqui exactamente lo que se pregunta"
      ]
    }
  ],
  "metadata": {
    "colab": {
      "provenance": []
    },
    "kernelspec": {
      "display_name": "Python 3",
      "language": "python",
      "name": "python3"
    },
    "language_info": {
      "codemirror_mode": {
        "name": "ipython",
        "version": 3
      },
      "file_extension": ".py",
      "mimetype": "text/x-python",
      "name": "python",
      "nbconvert_exporter": "python",
      "pygments_lexer": "ipython3",
      "version": "3.13.1"
    }
  },
  "nbformat": 4,
  "nbformat_minor": 5
}
